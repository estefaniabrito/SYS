{
  "nbformat": 4,
  "nbformat_minor": 0,
  "metadata": {
    "colab": {
      "provenance": [],
      "authorship_tag": "ABX9TyMk68gcELgPy+uov7MYGGMx",
      "include_colab_link": true
    },
    "kernelspec": {
      "name": "python3",
      "display_name": "Python 3"
    },
    "language_info": {
      "name": "python"
    }
  },
  "cells": [
    {
      "cell_type": "markdown",
      "metadata": {
        "id": "view-in-github",
        "colab_type": "text"
      },
      "source": [
        "<a href=\"https://colab.research.google.com/github/estefaniabrito/SYS/blob/main/TALLER_DE_LAPLACE.ipynb\" target=\"_parent\"><img src=\"https://colab.research.google.com/assets/colab-badge.svg\" alt=\"Open In Colab\"/></a>"
      ]
    },
    {
      "cell_type": "markdown",
      "source": [
        "##Taller de Laplace\n",
        "Estefania Ramirez Brito\n",
        "\n",
        "Señales y sistemas\n",
        "\n",
        "\n"
      ],
      "metadata": {
        "id": "BJJy8FvYXM1u"
      }
    },
    {
      "cell_type": "markdown",
      "source": [
        "**Primer punto**:\n",
        "\n",
        " Encuentre la funcion de transferencia que caracteriza el sistema masa, resorte, amortiguador, presentado en la siguiente Figura\n",
        "(asuma condiciones iniciales cero)\n",
        "\n",
        "**Desarrollo manual:**https://drive.google.com/file/d/1EmV_yh7v_-KU02zUmJOvThKLKYONr37A/view?usp=drive_link\n",
        "\n",
        "![Péndulo Elástico Amortiguado](https://github.com/amalvarezme/SenalesSistemas/blob/master/4_Transformada_Laplace/damped_spring.png?raw=1)"
      ],
      "metadata": {
        "id": "7DRJzMGyXlRG"
      }
    },
    {
      "cell_type": "markdown",
      "source": [
        "##Desarrollo por código"
      ],
      "metadata": {
        "id": "GPlZNObhYd1f"
      }
    },
    {
      "cell_type": "code",
      "source": [
        "%matplotlib inline\n",
        "import sympy as sym\n",
        "sym.init_printing()\n",
        "\n",
        "t, m, c, k = sym.symbols('t m c k', real=True)\n",
        "x = sym.Function('x')(t)\n",
        "y = sym.Function('y')(t)\n",
        "\n",
        "ode = sym.Eq(m*y.diff(t, 2) + c*y.diff(t) + k*y, x)\n",
        "ode"
      ],
      "metadata": {
        "colab": {
          "base_uri": "https://localhost:8080/",
          "height": 54
        },
        "id": "dnqTIyl9ZUU-",
        "outputId": "acdf565f-1c95-4168-bf1f-6cc786f47bd0"
      },
      "execution_count": 1,
      "outputs": [
        {
          "output_type": "execute_result",
          "data": {
            "text/plain": [
              "                         2              \n",
              "  d                     d               \n",
              "c⋅──(y(t)) + k⋅y(t) + m⋅───(y(t)) = x(t)\n",
              "  dt                      2             \n",
              "                        dt              "
            ],
            "text/latex": "$\\displaystyle c \\frac{d}{d t} y{\\left(t \\right)} + k y{\\left(t \\right)} + m \\frac{d^{2}}{d t^{2}} y{\\left(t \\right)} = x{\\left(t \\right)}$"
          },
          "metadata": {},
          "execution_count": 1
        }
      ]
    },
    {
      "cell_type": "code",
      "execution_count": 2,
      "metadata": {
        "colab": {
          "base_uri": "https://localhost:8080/",
          "height": 52
        },
        "id": "e0Q0VPKfXLyP",
        "outputId": "70c1a9d0-0b90-4ba0-ca4b-b0b7f5d55075"
      },
      "outputs": [
        {
          "output_type": "execute_result",
          "data": {
            "text/plain": [
              "      1       \n",
              "──────────────\n",
              "             2\n",
              "c⋅s + k + m⋅s "
            ],
            "text/latex": "$\\displaystyle \\frac{1}{c s + k + m s^{2}}$"
          },
          "metadata": {},
          "execution_count": 2
        }
      ],
      "source": [
        "s = sym.symbols('s')\n",
        "H = sym.Function('H')(s)\n",
        "\n",
        "H, = sym.solve(ode.subs(x, sym.exp(s*t)).subs(y, H*sym.exp(s*t)).doit(), H)\n",
        "H"
      ]
    }
  ]
}