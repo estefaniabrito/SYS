{
  "nbformat": 4,
  "nbformat_minor": 0,
  "metadata": {
    "colab": {
      "provenance": [],
      "authorship_tag": "ABX9TyM1INgoRPNW9K0Scwny2CNn",
      "include_colab_link": true
    },
    "kernelspec": {
      "name": "python3",
      "display_name": "Python 3"
    },
    "language_info": {
      "name": "python"
    }
  },
  "cells": [
    {
      "cell_type": "markdown",
      "metadata": {
        "id": "view-in-github",
        "colab_type": "text"
      },
      "source": [
        "<a href=\"https://colab.research.google.com/github/estefaniabrito/SYS/blob/main/Ejerciciostransformadasz.ipynb\" target=\"_parent\"><img src=\"https://colab.research.google.com/assets/colab-badge.svg\" alt=\"Open In Colab\"/></a>"
      ]
    },
    {
      "cell_type": "markdown",
      "source": [
        "#UNIVERSIDAD NACIONAL DE COLOMBIA\n",
        "Ejercicios transformada Z\n",
        "\n",
        "Estefania Ramirez Brito\n"
      ],
      "metadata": {
        "id": "bs3tPGupWn_5"
      }
    },
    {
      "cell_type": "code",
      "source": [
        "#! pip install youtube-dl\n",
        "!python3 -m pip install --force-reinstall https://github.com/yt-dlp/yt-dlp/archive/master.tar.gz"
      ],
      "metadata": {
        "colab": {
          "base_uri": "https://localhost:8080/"
        },
        "id": "P_TqvgK9XdBR",
        "outputId": "af4790a1-c4aa-4aed-b979-1580f06817c1"
      },
      "execution_count": null,
      "outputs": [
        {
          "output_type": "stream",
          "name": "stdout",
          "text": [
            "Collecting https://github.com/yt-dlp/yt-dlp/archive/master.tar.gz\n",
            "  Using cached https://github.com/yt-dlp/yt-dlp/archive/master.tar.gz (2.7 MB)\n",
            "  Installing build dependencies ... \u001b[?25l\u001b[?25hdone\n",
            "  Getting requirements to build wheel ... \u001b[?25l\u001b[?25hdone\n",
            "  Preparing metadata (pyproject.toml) ... \u001b[?25l\u001b[?25hdone\n",
            "Building wheels for collected packages: yt-dlp\n",
            "  Building wheel for yt-dlp (pyproject.toml) ... \u001b[?25l\u001b[?25hdone\n",
            "  Created wheel for yt-dlp: filename=yt_dlp-2025.2.19-py3-none-any.whl size=2947654 sha256=5ec7632f415bf474a1735d7fbfe5113fba2fb18f08231ed598bc522f6ce9a5ad\n",
            "  Stored in directory: /tmp/pip-ephem-wheel-cache-k85m_g74/wheels/2d/79/97/7209650ef73114e0fe0603480da012ad3afacb9cae6b8acd9a\n",
            "Successfully built yt-dlp\n",
            "Installing collected packages: yt-dlp\n",
            "  Attempting uninstall: yt-dlp\n",
            "    Found existing installation: yt-dlp 2025.2.19\n",
            "    Uninstalling yt-dlp-2025.2.19:\n",
            "      Successfully uninstalled yt-dlp-2025.2.19\n",
            "Successfully installed yt-dlp-2025.2.19\n"
          ]
        }
      ]
    },
    {
      "cell_type": "code",
      "execution_count": null,
      "metadata": {
        "colab": {
          "base_uri": "https://localhost:8080/"
        },
        "id": "8OOVJt-CWMFK",
        "outputId": "9deee71a-3841-4c9c-c059-2c6ae872938c"
      },
      "outputs": [
        {
          "output_type": "stream",
          "name": "stdout",
          "text": [
            "[youtube] Extracting URL: https://www.youtube.com/watch?v=pwQXXNo2Hxo\n",
            "[youtube] pwQXXNo2Hxo: Downloading webpage\n",
            "[youtube] pwQXXNo2Hxo: Downloading tv client config\n",
            "[youtube] pwQXXNo2Hxo: Downloading player f6e09c70\n",
            "[youtube] pwQXXNo2Hxo: Downloading tv player API JSON\n",
            "[youtube] pwQXXNo2Hxo: Downloading ios player API JSON\n",
            "\u001b[0;31mERROR:\u001b[0m [youtube] pwQXXNo2Hxo: Sign in to confirm you’re not a bot. Use --cookies-from-browser or --cookies for the authentication. See  https://github.com/yt-dlp/yt-dlp/wiki/FAQ#how-do-i-pass-cookies-to-yt-dlp  for how to manually pass cookies. Also see  https://github.com/yt-dlp/yt-dlp/wiki/Extractors#exporting-youtube-cookies  for tips on effectively exporting YouTube cookies\n",
            "[youtube] Extracting URL: https://www.youtube.com/watch?v=pwQXXNo2Hxo\n",
            "[youtube] pwQXXNo2Hxo: Downloading webpage\n",
            "[youtube] pwQXXNo2Hxo: Downloading tv client config\n",
            "[youtube] pwQXXNo2Hxo: Downloading player f6e09c70\n",
            "[youtube] pwQXXNo2Hxo: Downloading tv player API JSON\n",
            "[youtube] pwQXXNo2Hxo: Downloading ios player API JSON\n",
            "\u001b[0;31mERROR:\u001b[0m [youtube] pwQXXNo2Hxo: Sign in to confirm you’re not a bot. Use --cookies-from-browser or --cookies for the authentication. See  https://github.com/yt-dlp/yt-dlp/wiki/FAQ#how-do-i-pass-cookies-to-yt-dlp  for how to manually pass cookies. Also see  https://github.com/yt-dlp/yt-dlp/wiki/Extractors#exporting-youtube-cookies  for tips on effectively exporting YouTube cookies\n"
          ]
        }
      ],
      "source": [
        "link=\"https://www.youtube.com/watch?v=pwQXXNo2Hxo&list=RDpwQXXNo2Hxo&start_radio=1\"\n",
        "!yt-dlp --extract-audio -o \"audio\" --audio-format mp3 {link}\n",
        "!yt-dlp -f bestaudio \"https://www.youtube.com/watch?v=pwQXXNo2Hxo\"\n"
      ]
    },
    {
      "cell_type": "markdown",
      "source": [],
      "metadata": {
        "id": "D5Vr9rkxYTCX"
      }
    },
    {
      "cell_type": "code",
      "source": [
        "!ffmpeg -i audio.mp3 output.wav\n",
        "!pip install soundfile"
      ],
      "metadata": {
        "colab": {
          "base_uri": "https://localhost:8080/"
        },
        "id": "Nog2zUgKXv55",
        "outputId": "42336bb9-30dc-472a-e7be-d2c37a3807a4"
      },
      "execution_count": null,
      "outputs": [
        {
          "output_type": "stream",
          "name": "stdout",
          "text": [
            "ffmpeg version 4.4.2-0ubuntu0.22.04.1 Copyright (c) 2000-2021 the FFmpeg developers\n",
            "  built with gcc 11 (Ubuntu 11.2.0-19ubuntu1)\n",
            "  configuration: --prefix=/usr --extra-version=0ubuntu0.22.04.1 --toolchain=hardened --libdir=/usr/lib/x86_64-linux-gnu --incdir=/usr/include/x86_64-linux-gnu --arch=amd64 --enable-gpl --disable-stripping --enable-gnutls --enable-ladspa --enable-libaom --enable-libass --enable-libbluray --enable-libbs2b --enable-libcaca --enable-libcdio --enable-libcodec2 --enable-libdav1d --enable-libflite --enable-libfontconfig --enable-libfreetype --enable-libfribidi --enable-libgme --enable-libgsm --enable-libjack --enable-libmp3lame --enable-libmysofa --enable-libopenjpeg --enable-libopenmpt --enable-libopus --enable-libpulse --enable-librabbitmq --enable-librubberband --enable-libshine --enable-libsnappy --enable-libsoxr --enable-libspeex --enable-libsrt --enable-libssh --enable-libtheora --enable-libtwolame --enable-libvidstab --enable-libvorbis --enable-libvpx --enable-libwebp --enable-libx265 --enable-libxml2 --enable-libxvid --enable-libzimg --enable-libzmq --enable-libzvbi --enable-lv2 --enable-omx --enable-openal --enable-opencl --enable-opengl --enable-sdl2 --enable-pocketsphinx --enable-librsvg --enable-libmfx --enable-libdc1394 --enable-libdrm --enable-libiec61883 --enable-chromaprint --enable-frei0r --enable-libx264 --enable-shared\n",
            "  libavutil      56. 70.100 / 56. 70.100\n",
            "  libavcodec     58.134.100 / 58.134.100\n",
            "  libavformat    58. 76.100 / 58. 76.100\n",
            "  libavdevice    58. 13.100 / 58. 13.100\n",
            "  libavfilter     7.110.100 /  7.110.100\n",
            "  libswscale      5.  9.100 /  5.  9.100\n",
            "  libswresample   3.  9.100 /  3.  9.100\n",
            "  libpostproc    55.  9.100 / 55.  9.100\n",
            "\u001b[1;31maudio.mp3: No such file or directory\n",
            "\u001b[0mRequirement already satisfied: soundfile in /usr/local/lib/python3.11/dist-packages (0.13.1)\n",
            "Requirement already satisfied: cffi>=1.0 in /usr/local/lib/python3.11/dist-packages (from soundfile) (1.17.1)\n",
            "Requirement already satisfied: numpy in /usr/local/lib/python3.11/dist-packages (from soundfile) (1.26.4)\n",
            "Requirement already satisfied: pycparser in /usr/local/lib/python3.11/dist-packages (from cffi>=1.0->soundfile) (2.22)\n"
          ]
        }
      ]
    },
    {
      "cell_type": "code",
      "source": [
        "import soundfile as sf # para instalar pip install soundfile\n",
        "#lee archivos wav\n",
        "nombre_out = \"output.wav\"\n",
        "x, fs = sf.read(nombre_out)\n",
        "\n",
        "# read speech signal from file\n",
        "print('Frecuencia de muestreo %.2f[Hz]\\naudio %s' % (fs,nombre_out))"
      ],
      "metadata": {
        "colab": {
          "base_uri": "https://localhost:8080/",
          "height": 356
        },
        "id": "mbkCszcUXwgo",
        "outputId": "206fadba-88d1-4da2-c7fb-4f30168a6178"
      },
      "execution_count": null,
      "outputs": [
        {
          "output_type": "error",
          "ename": "LibsndfileError",
          "evalue": "Error opening 'output.wav': System error.",
          "traceback": [
            "\u001b[0;31m---------------------------------------------------------------------------\u001b[0m",
            "\u001b[0;31mLibsndfileError\u001b[0m                           Traceback (most recent call last)",
            "\u001b[0;32m<ipython-input-13-2eed5c0adb54>\u001b[0m in \u001b[0;36m<cell line: 0>\u001b[0;34m()\u001b[0m\n\u001b[1;32m      2\u001b[0m \u001b[0;31m#lee archivos wav\u001b[0m\u001b[0;34m\u001b[0m\u001b[0;34m\u001b[0m\u001b[0m\n\u001b[1;32m      3\u001b[0m \u001b[0mnombre_out\u001b[0m \u001b[0;34m=\u001b[0m \u001b[0;34m\"output.wav\"\u001b[0m\u001b[0;34m\u001b[0m\u001b[0;34m\u001b[0m\u001b[0m\n\u001b[0;32m----> 4\u001b[0;31m \u001b[0mx\u001b[0m\u001b[0;34m,\u001b[0m \u001b[0mfs\u001b[0m \u001b[0;34m=\u001b[0m \u001b[0msf\u001b[0m\u001b[0;34m.\u001b[0m\u001b[0mread\u001b[0m\u001b[0;34m(\u001b[0m\u001b[0mnombre_out\u001b[0m\u001b[0;34m)\u001b[0m\u001b[0;34m\u001b[0m\u001b[0;34m\u001b[0m\u001b[0m\n\u001b[0m\u001b[1;32m      5\u001b[0m \u001b[0;34m\u001b[0m\u001b[0m\n\u001b[1;32m      6\u001b[0m \u001b[0;31m# read speech signal from file\u001b[0m\u001b[0;34m\u001b[0m\u001b[0;34m\u001b[0m\u001b[0m\n",
            "\u001b[0;32m/usr/local/lib/python3.11/dist-packages/soundfile.py\u001b[0m in \u001b[0;36mread\u001b[0;34m(file, frames, start, stop, dtype, always_2d, fill_value, out, samplerate, channels, format, subtype, endian, closefd)\u001b[0m\n\u001b[1;32m    303\u001b[0m \u001b[0;34m\u001b[0m\u001b[0m\n\u001b[1;32m    304\u001b[0m     \"\"\"\n\u001b[0;32m--> 305\u001b[0;31m     with SoundFile(file, 'r', samplerate, channels,\n\u001b[0m\u001b[1;32m    306\u001b[0m                    subtype, endian, format, closefd) as f:\n\u001b[1;32m    307\u001b[0m         \u001b[0mframes\u001b[0m \u001b[0;34m=\u001b[0m \u001b[0mf\u001b[0m\u001b[0;34m.\u001b[0m\u001b[0m_prepare_read\u001b[0m\u001b[0;34m(\u001b[0m\u001b[0mstart\u001b[0m\u001b[0;34m,\u001b[0m \u001b[0mstop\u001b[0m\u001b[0;34m,\u001b[0m \u001b[0mframes\u001b[0m\u001b[0;34m)\u001b[0m\u001b[0;34m\u001b[0m\u001b[0;34m\u001b[0m\u001b[0m\n",
            "\u001b[0;32m/usr/local/lib/python3.11/dist-packages/soundfile.py\u001b[0m in \u001b[0;36m__init__\u001b[0;34m(self, file, mode, samplerate, channels, subtype, endian, format, closefd, compression_level, bitrate_mode)\u001b[0m\n\u001b[1;32m    688\u001b[0m         self._info = _create_info_struct(file, mode, samplerate, channels,\n\u001b[1;32m    689\u001b[0m                                          format, subtype, endian)\n\u001b[0;32m--> 690\u001b[0;31m         \u001b[0mself\u001b[0m\u001b[0;34m.\u001b[0m\u001b[0m_file\u001b[0m \u001b[0;34m=\u001b[0m \u001b[0mself\u001b[0m\u001b[0;34m.\u001b[0m\u001b[0m_open\u001b[0m\u001b[0;34m(\u001b[0m\u001b[0mfile\u001b[0m\u001b[0;34m,\u001b[0m \u001b[0mmode_int\u001b[0m\u001b[0;34m,\u001b[0m \u001b[0mclosefd\u001b[0m\u001b[0;34m)\u001b[0m\u001b[0;34m\u001b[0m\u001b[0;34m\u001b[0m\u001b[0m\n\u001b[0m\u001b[1;32m    691\u001b[0m         \u001b[0;32mif\u001b[0m \u001b[0mset\u001b[0m\u001b[0;34m(\u001b[0m\u001b[0mmode\u001b[0m\u001b[0;34m)\u001b[0m\u001b[0;34m.\u001b[0m\u001b[0missuperset\u001b[0m\u001b[0;34m(\u001b[0m\u001b[0;34m'r+'\u001b[0m\u001b[0;34m)\u001b[0m \u001b[0;32mand\u001b[0m \u001b[0mself\u001b[0m\u001b[0;34m.\u001b[0m\u001b[0mseekable\u001b[0m\u001b[0;34m(\u001b[0m\u001b[0;34m)\u001b[0m\u001b[0;34m:\u001b[0m\u001b[0;34m\u001b[0m\u001b[0;34m\u001b[0m\u001b[0m\n\u001b[1;32m    692\u001b[0m             \u001b[0;31m# Move write position to 0 (like in Python file objects)\u001b[0m\u001b[0;34m\u001b[0m\u001b[0;34m\u001b[0m\u001b[0m\n",
            "\u001b[0;32m/usr/local/lib/python3.11/dist-packages/soundfile.py\u001b[0m in \u001b[0;36m_open\u001b[0;34m(self, file, mode_int, closefd)\u001b[0m\n\u001b[1;32m   1263\u001b[0m             \u001b[0;31m# get the actual error code\u001b[0m\u001b[0;34m\u001b[0m\u001b[0;34m\u001b[0m\u001b[0m\n\u001b[1;32m   1264\u001b[0m             \u001b[0merr\u001b[0m \u001b[0;34m=\u001b[0m \u001b[0m_snd\u001b[0m\u001b[0;34m.\u001b[0m\u001b[0msf_error\u001b[0m\u001b[0;34m(\u001b[0m\u001b[0mfile_ptr\u001b[0m\u001b[0;34m)\u001b[0m\u001b[0;34m\u001b[0m\u001b[0;34m\u001b[0m\u001b[0m\n\u001b[0;32m-> 1265\u001b[0;31m             \u001b[0;32mraise\u001b[0m \u001b[0mLibsndfileError\u001b[0m\u001b[0;34m(\u001b[0m\u001b[0merr\u001b[0m\u001b[0;34m,\u001b[0m \u001b[0mprefix\u001b[0m\u001b[0;34m=\u001b[0m\u001b[0;34m\"Error opening {0!r}: \"\u001b[0m\u001b[0;34m.\u001b[0m\u001b[0mformat\u001b[0m\u001b[0;34m(\u001b[0m\u001b[0mself\u001b[0m\u001b[0;34m.\u001b[0m\u001b[0mname\u001b[0m\u001b[0;34m)\u001b[0m\u001b[0;34m)\u001b[0m\u001b[0;34m\u001b[0m\u001b[0;34m\u001b[0m\u001b[0m\n\u001b[0m\u001b[1;32m   1266\u001b[0m         \u001b[0;32mif\u001b[0m \u001b[0mmode_int\u001b[0m \u001b[0;34m==\u001b[0m \u001b[0m_snd\u001b[0m\u001b[0;34m.\u001b[0m\u001b[0mSFM_WRITE\u001b[0m\u001b[0;34m:\u001b[0m\u001b[0;34m\u001b[0m\u001b[0;34m\u001b[0m\u001b[0m\n\u001b[1;32m   1267\u001b[0m             \u001b[0;31m# Due to a bug in libsndfile version <= 1.0.25, frames != 0\u001b[0m\u001b[0;34m\u001b[0m\u001b[0;34m\u001b[0m\u001b[0m\n",
            "\u001b[0;31mLibsndfileError\u001b[0m: Error opening 'output.wav': System error."
          ]
        }
      ]
    },
    {
      "cell_type": "code",
      "source": [
        "x.shape[0]/fs #segundos de la canción"
      ],
      "metadata": {
        "id": "ovBbs_D7ZQXB"
      },
      "execution_count": null,
      "outputs": []
    },
    {
      "cell_type": "code",
      "source": [
        "xpro = x.copy() #copiar archivos para procesar\n",
        "ti = 30\n",
        "tf = 60\n",
        "xs = xpro[int(ti*fs):int((tf*fs)),:]"
      ],
      "metadata": {
        "id": "X5k_UqSHZWYZ"
      },
      "execution_count": null,
      "outputs": []
    },
    {
      "cell_type": "code",
      "source": [
        "#Para escuchar el trozo de audio con el que se va a trabajar:\n",
        "#No usar un trozo muy grande o el entorno se puede desconectar\n",
        "from IPython.display import Audio\n",
        "Audio([xs[:,1], xs[:,0]],rate=fs)"
      ],
      "metadata": {
        "id": "hW77t45sZZwB"
      },
      "execution_count": null,
      "outputs": []
    },
    {
      "cell_type": "markdown",
      "source": [
        "#Filtro Butterworth\n"
      ],
      "metadata": {
        "id": "1JWA-9wXghnq"
      }
    },
    {
      "cell_type": "code",
      "source": [
        "from scipy.signal import butter as bw\n",
        "from scipy.signal import freqz_zpk"
      ],
      "metadata": {
        "id": "uNrL1hEba5e0"
      },
      "execution_count": null,
      "outputs": []
    },
    {
      "cell_type": "code",
      "source": [
        "import numpy as np\n",
        "from scipy.signal import butter, freqz\n",
        "from matplotlib import pyplot as plt\n",
        "from matplotlib.patches import Circle\n",
        "\n",
        "# Función para el diseño del filtro\n",
        "def get_filter_params():\n",
        "    N = int(input(\"Ingrese el orden del filtro (entero positivo): \"))\n",
        "    filt_type = input(\"Ingrese el tipo de filtro (lowpass, highpass, bandpass, bandstop): \").strip().lower()\n",
        "\n",
        "    # Si el filtro es pasa-banda o rechaza-banda, necesitamos 2 frecuencias de corte\n",
        "    if filt_type in ['bandpass', 'bandstop']:\n",
        "        Wn = list(map(float, input(\"Ingrese las frecuencias de corte como dos valores separados por coma (Hz): \").split(',')))\n",
        "        if len(Wn) != 2:\n",
        "            raise ValueError(\"Debe ingresar exactamente dos frecuencias de corte.\")\n",
        "    else:\n",
        "        Wn = float(input(\"Ingrese la frecuencia de corte (Hz): \"))\n",
        "\n",
        "    fs = float(input(\"Ingrese la frecuencia de muestreo (Hz): \"))\n",
        "    return N, Wn, filt_type, fs\n",
        "\n",
        "# Función para diseñar el filtro\n",
        "def design_filter(N, Wn, btype, fs):\n",
        "    # Convertir las frecuencias de corte a frecuencias normalizadas\n",
        "    if isinstance(Wn, list):  # Para bandpass o bandstop\n",
        "        Wn = [w / (0.5 * fs) for w in Wn]\n",
        "    else:  # Para lowpass o highpass\n",
        "        Wn = Wn / (0.5 * fs)\n",
        "\n",
        "    # Diseño del filtro usando butter\n",
        "    b, a = butter(N, Wn, btype=btype, output='ba')\n",
        "    return b, a\n",
        "\n",
        "# Función para mostrar la respuesta en frecuencia\n",
        "def plot_freq_response(filter_name, w, h, N):\n",
        "    fig = plt.figure()\n",
        "    ax1 = fig.add_subplot(1, 1, 1)\n",
        "    ax1.set_title(filter_name + ' Digital filter frequency response, order=' + str(N))\n",
        "    ax1.plot(w, 20 * np.log10(abs(h)), 'b')\n",
        "    ax1.set_ylabel('Amplitude [dB]', color='b')\n",
        "    ax1.set_xlabel('Frequency [Hz]')\n",
        "    ax1.grid()\n",
        "    ax2 = ax1.twinx()\n",
        "    angles = np.unwrap(np.angle(h))\n",
        "    ax2.plot(w, angles, 'g')\n",
        "    ax2.set_ylabel('Angle [radians]', color='g')\n",
        "    plt.axis('tight')\n",
        "    plt.show()\n",
        "\n",
        "# Función para mostrar los polos y ceros\n",
        "def show_zp(b, a, title='Z-plane'):\n",
        "    # Cálculo de los polos y ceros\n",
        "    zeros, poles, gain = np.roots(b), np.roots(a), np.polyval(a, 0)\n",
        "    ax = plt.gca()\n",
        "\n",
        "    ax.plot(np.real(zeros), np.imag(zeros), 'bo', fillstyle='none', ms=10)\n",
        "    ax.plot(np.real(poles), np.imag(poles), 'rx', fillstyle='none', ms=10)\n",
        "    unit_circle = Circle((0, 0), radius=1, fill=False, color='black', ls='solid', alpha=0.9)\n",
        "    ax.add_patch(unit_circle)\n",
        "    ax.axvline(0, color='0.7')\n",
        "    ax.axhline(0, color='0.7')\n",
        "\n",
        "    plt.title(title)\n",
        "    plt.xlabel(r'Re{$z$}')\n",
        "    plt.ylabel(r'Im{$z$}')\n",
        "    plt.axis('equal')\n",
        "    plt.xlim((-2, 2))\n",
        "    plt.ylim((-2, 2))\n",
        "    plt.grid()\n",
        "\n",
        "# Main: Solicitar parámetros y diseñar el filtro\n",
        "def main():\n",
        "    # Obtener parámetros del filtro\n",
        "    N, Wn, filt_type, fs = get_filter_params()\n",
        "\n",
        "    # Diseñar el filtro\n",
        "    b, a = design_filter(N, Wn, filt_type, fs)\n",
        "\n",
        "    # Mostrar respuesta en frecuencia\n",
        "    w, h = freqz(b, a, worN=8000, fs=fs)\n",
        "    plot_freq_response(filt_type, w, h, N)\n",
        "\n",
        "    # Mostrar polos y ceros\n",
        "    show_zp(b, a)\n",
        "\n",
        "# Ejecutar el programa\n",
        "if __name__ == \"__main__\":\n",
        "    main()\n"
      ],
      "metadata": {
        "id": "m3i_n5C1fgI3"
      },
      "execution_count": null,
      "outputs": []
    },
    {
      "cell_type": "markdown",
      "source": [
        "##Chevyseb 1"
      ],
      "metadata": {
        "id": "yxJJKrWnht5a"
      }
    },
    {
      "cell_type": "code",
      "source": [],
      "metadata": {
        "id": "73Gu59LDhs-8"
      },
      "execution_count": null,
      "outputs": []
    }
  ]
}