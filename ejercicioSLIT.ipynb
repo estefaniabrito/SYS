{
  "nbformat": 4,
  "nbformat_minor": 0,
  "metadata": {
    "colab": {
      "provenance": [],
      "authorship_tag": "ABX9TyM3cHR0jhOpBdkZeusJcAe/",
      "include_colab_link": true
    },
    "kernelspec": {
      "name": "python3",
      "display_name": "Python 3"
    },
    "language_info": {
      "name": "python"
    },
    "widgets": {
      "application/vnd.jupyter.widget-state+json": {
        "650c36a42df748a186e0487459578ad1": {
          "model_module": "@jupyter-widgets/controls",
          "model_name": "VBoxModel",
          "model_module_version": "1.5.0",
          "state": {
            "_dom_classes": [
              "widget-interact"
            ],
            "_model_module": "@jupyter-widgets/controls",
            "_model_module_version": "1.5.0",
            "_model_name": "VBoxModel",
            "_view_count": null,
            "_view_module": "@jupyter-widgets/controls",
            "_view_module_version": "1.5.0",
            "_view_name": "VBoxView",
            "box_style": "",
            "children": [
              "IPY_MODEL_6d731ac0b3074f328908e08a89a232ec",
              "IPY_MODEL_a5f4d334268c4a939303f09ae3ad8e7d"
            ],
            "layout": "IPY_MODEL_135e813a8fe74986969859cda0ca483f"
          }
        },
        "6d731ac0b3074f328908e08a89a232ec": {
          "model_module": "@jupyter-widgets/controls",
          "model_name": "IntSliderModel",
          "model_module_version": "1.5.0",
          "state": {
            "_dom_classes": [],
            "_model_module": "@jupyter-widgets/controls",
            "_model_module_version": "1.5.0",
            "_model_name": "IntSliderModel",
            "_view_count": null,
            "_view_module": "@jupyter-widgets/controls",
            "_view_module_version": "1.5.0",
            "_view_name": "IntSliderView",
            "continuous_update": true,
            "description": "k",
            "description_tooltip": null,
            "disabled": false,
            "layout": "IPY_MODEL_749ba4bb69eb4baf89b2e01ef8e9440a",
            "max": 8,
            "min": 0,
            "orientation": "horizontal",
            "readout": true,
            "readout_format": "d",
            "step": 1,
            "style": "IPY_MODEL_a87c9431e2d946b5b0b2bf9ac3b6ddcb",
            "value": 0
          }
        },
        "a5f4d334268c4a939303f09ae3ad8e7d": {
          "model_module": "@jupyter-widgets/output",
          "model_name": "OutputModel",
          "model_module_version": "1.0.0",
          "state": {
            "_dom_classes": [],
            "_model_module": "@jupyter-widgets/output",
            "_model_module_version": "1.0.0",
            "_model_name": "OutputModel",
            "_view_count": null,
            "_view_module": "@jupyter-widgets/output",
            "_view_module_version": "1.0.0",
            "_view_name": "OutputView",
            "layout": "IPY_MODEL_065f67233e564812ac7ac48f452850d2",
            "msg_id": "",
            "outputs": [
              {
                "output_type": "display_data",
                "data": {
                  "text/plain": "<Figure size 640x480 with 1 Axes>",
                  "image/png": "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\n"
                },
                "metadata": {}
              }
            ]
          }
        },
        "135e813a8fe74986969859cda0ca483f": {
          "model_module": "@jupyter-widgets/base",
          "model_name": "LayoutModel",
          "model_module_version": "1.2.0",
          "state": {
            "_model_module": "@jupyter-widgets/base",
            "_model_module_version": "1.2.0",
            "_model_name": "LayoutModel",
            "_view_count": null,
            "_view_module": "@jupyter-widgets/base",
            "_view_module_version": "1.2.0",
            "_view_name": "LayoutView",
            "align_content": null,
            "align_items": null,
            "align_self": null,
            "border": null,
            "bottom": null,
            "display": null,
            "flex": null,
            "flex_flow": null,
            "grid_area": null,
            "grid_auto_columns": null,
            "grid_auto_flow": null,
            "grid_auto_rows": null,
            "grid_column": null,
            "grid_gap": null,
            "grid_row": null,
            "grid_template_areas": null,
            "grid_template_columns": null,
            "grid_template_rows": null,
            "height": null,
            "justify_content": null,
            "justify_items": null,
            "left": null,
            "margin": null,
            "max_height": null,
            "max_width": null,
            "min_height": null,
            "min_width": null,
            "object_fit": null,
            "object_position": null,
            "order": null,
            "overflow": null,
            "overflow_x": null,
            "overflow_y": null,
            "padding": null,
            "right": null,
            "top": null,
            "visibility": null,
            "width": null
          }
        },
        "749ba4bb69eb4baf89b2e01ef8e9440a": {
          "model_module": "@jupyter-widgets/base",
          "model_name": "LayoutModel",
          "model_module_version": "1.2.0",
          "state": {
            "_model_module": "@jupyter-widgets/base",
            "_model_module_version": "1.2.0",
            "_model_name": "LayoutModel",
            "_view_count": null,
            "_view_module": "@jupyter-widgets/base",
            "_view_module_version": "1.2.0",
            "_view_name": "LayoutView",
            "align_content": null,
            "align_items": null,
            "align_self": null,
            "border": null,
            "bottom": null,
            "display": null,
            "flex": null,
            "flex_flow": null,
            "grid_area": null,
            "grid_auto_columns": null,
            "grid_auto_flow": null,
            "grid_auto_rows": null,
            "grid_column": null,
            "grid_gap": null,
            "grid_row": null,
            "grid_template_areas": null,
            "grid_template_columns": null,
            "grid_template_rows": null,
            "height": null,
            "justify_content": null,
            "justify_items": null,
            "left": null,
            "margin": null,
            "max_height": null,
            "max_width": null,
            "min_height": null,
            "min_width": null,
            "object_fit": null,
            "object_position": null,
            "order": null,
            "overflow": null,
            "overflow_x": null,
            "overflow_y": null,
            "padding": null,
            "right": null,
            "top": null,
            "visibility": null,
            "width": null
          }
        },
        "a87c9431e2d946b5b0b2bf9ac3b6ddcb": {
          "model_module": "@jupyter-widgets/controls",
          "model_name": "SliderStyleModel",
          "model_module_version": "1.5.0",
          "state": {
            "_model_module": "@jupyter-widgets/controls",
            "_model_module_version": "1.5.0",
            "_model_name": "SliderStyleModel",
            "_view_count": null,
            "_view_module": "@jupyter-widgets/base",
            "_view_module_version": "1.2.0",
            "_view_name": "StyleView",
            "description_width": "",
            "handle_color": null
          }
        },
        "065f67233e564812ac7ac48f452850d2": {
          "model_module": "@jupyter-widgets/base",
          "model_name": "LayoutModel",
          "model_module_version": "1.2.0",
          "state": {
            "_model_module": "@jupyter-widgets/base",
            "_model_module_version": "1.2.0",
            "_model_name": "LayoutModel",
            "_view_count": null,
            "_view_module": "@jupyter-widgets/base",
            "_view_module_version": "1.2.0",
            "_view_name": "LayoutView",
            "align_content": null,
            "align_items": null,
            "align_self": null,
            "border": null,
            "bottom": null,
            "display": null,
            "flex": null,
            "flex_flow": null,
            "grid_area": null,
            "grid_auto_columns": null,
            "grid_auto_flow": null,
            "grid_auto_rows": null,
            "grid_column": null,
            "grid_gap": null,
            "grid_row": null,
            "grid_template_areas": null,
            "grid_template_columns": null,
            "grid_template_rows": null,
            "height": null,
            "justify_content": null,
            "justify_items": null,
            "left": null,
            "margin": null,
            "max_height": null,
            "max_width": null,
            "min_height": null,
            "min_width": null,
            "object_fit": null,
            "object_position": null,
            "order": null,
            "overflow": null,
            "overflow_x": null,
            "overflow_y": null,
            "padding": null,
            "right": null,
            "top": null,
            "visibility": null,
            "width": null
          }
        }
      }
    }
  },
  "cells": [
    {
      "cell_type": "markdown",
      "metadata": {
        "id": "view-in-github",
        "colab_type": "text"
      },
      "source": [
        "<a href=\"https://colab.research.google.com/github/estefaniabrito/SYS/blob/main/ejercicioSLIT.ipynb\" target=\"_parent\"><img src=\"https://colab.research.google.com/assets/colab-badge.svg\" alt=\"Open In Colab\"/></a>"
      ]
    },
    {
      "cell_type": "code",
      "execution_count": 1,
      "metadata": {
        "id": "IQ6ioPj-eUZz"
      },
      "outputs": [],
      "source": [
        "#Teniendo en cuenta el ejemplo del cuaderno de convolución en tiempo discreto.\n",
        "#se realizó cambiando las variables por las propuestas en clase\n",
        "%matplotlib inline\n",
        "from ipywidgets import interact #crear graficos interactivos\n",
        "import numpy as np\n",
        "import matplotlib.pyplot as plt\n",
        "from scipy import signal"
      ]
    },
    {
      "cell_type": "code",
      "source": [
        "hu = np.array([7, 0.5, 8, -2,0.3])\n",
        "h = np.diff(hu).reshape(-1,1)\n",
        "x = np.array([10,-8,3.5,6]).reshape(-1,1)#signal.triang(12).reshape(-1,1) # se genera una señal triangular y se trabaja con arreglos tipo columna\n",
        "#funcion convolucion\n",
        "def convgraf(h,x): #función general para pintar proceso de convolución de forma interactiva\n",
        "   lx = len(x)\n",
        "   lh = len(h)\n",
        "   M = 2*lx+lh # se genera un vector de tamaño completo para visualizar todo el proceso paso a paso\n",
        "   xm = np.zeros((M,M))\n",
        "   hm = np.r_[np.zeros((lx,1)),h,np.zeros((lx,1))]\n",
        "   ym = np.zeros((M,M))\n",
        "   for i in range(M-lx+1):\n",
        "     #print(i)\n",
        "     xm[i:i+lx,i] = np.flip(x).reshape(-1)#filp realizar el proceso de reflejo sobre arreglos discretos\n",
        "     ym[i,i] = xm[:,i].T.dot(hm)  #multiplicacion entre vectores -> producto punto\n",
        "   return xm, ym, hm\n",
        "\n",
        "def plot_conv(k,xm,ym,hm): #dibujar arreglos\n",
        "     plt.stem(xm[:,k],markerfmt='+',label='$x[k]$')\n",
        "     plt.stem(hm,linefmt='g',markerfmt='.',label='$h[n-k]$')\n",
        "     plt.stem(ym[:k,:].sum(axis=0),markerfmt='s',linefmt='r',label='$y[n]=\\sum^{\\infty}_{k=-\\infty}x[k]h[n-k]$')\n",
        "     plt.legend()\n",
        "     plt.show()\n",
        "     return\n",
        "\n",
        "xm, ym, hm = convgraf(h,x)"
      ],
      "metadata": {
        "colab": {
          "base_uri": "https://localhost:8080/"
        },
        "id": "1Ga7-a7FjR3K",
        "outputId": "db09a091-d547-47c0-f6ac-cc7d54af1cd3"
      },
      "execution_count": 3,
      "outputs": [
        {
          "output_type": "stream",
          "name": "stderr",
          "text": [
            "<ipython-input-3-3ffa689cd953>:15: DeprecationWarning: Conversion of an array with ndim > 0 to a scalar is deprecated, and will error in future. Ensure you extract a single element from your array before performing this operation. (Deprecated NumPy 1.25.)\n",
            "  ym[i,i] = xm[:,i].T.dot(hm)  #multiplicacion entre vectores -> producto punto\n"
          ]
        }
      ]
    },
    {
      "cell_type": "code",
      "source": [
        "@interact(k=(0, xm.shape[0]-len(x), 1))\n",
        "def show_frame(k=0):\n",
        "    plot_conv(k,xm,ym,hm)\n",
        "plt.show()"
      ],
      "metadata": {
        "colab": {
          "base_uri": "https://localhost:8080/",
          "height": 462,
          "referenced_widgets": [
            "650c36a42df748a186e0487459578ad1",
            "6d731ac0b3074f328908e08a89a232ec",
            "a5f4d334268c4a939303f09ae3ad8e7d",
            "135e813a8fe74986969859cda0ca483f",
            "749ba4bb69eb4baf89b2e01ef8e9440a",
            "a87c9431e2d946b5b0b2bf9ac3b6ddcb",
            "065f67233e564812ac7ac48f452850d2"
          ]
        },
        "id": "Z2TRSdRDlwY4",
        "outputId": "07a843ad-1e48-4ed5-d9dd-7d0bd963d671"
      },
      "execution_count": 4,
      "outputs": [
        {
          "output_type": "display_data",
          "data": {
            "text/plain": [
              "interactive(children=(IntSlider(value=0, description='k', max=8), Output()), _dom_classes=('widget-interact',)…"
            ],
            "application/vnd.jupyter.widget-view+json": {
              "version_major": 2,
              "version_minor": 0,
              "model_id": "650c36a42df748a186e0487459578ad1"
            }
          },
          "metadata": {}
        }
      ]
    }
  ]
}