{
  "nbformat": 4,
  "nbformat_minor": 0,
  "metadata": {
    "colab": {
      "provenance": [],
      "authorship_tag": "ABX9TyM9agRKoJatDNORU97tRCkh",
      "include_colab_link": true
    },
    "kernelspec": {
      "name": "python3",
      "display_name": "Python 3"
    },
    "language_info": {
      "name": "python"
    }
  },
  "cells": [
    {
      "cell_type": "markdown",
      "metadata": {
        "id": "view-in-github",
        "colab_type": "text"
      },
      "source": [
        "<a href=\"https://colab.research.google.com/github/estefaniabrito/SYS/blob/main/Avances__1.ipynb\" target=\"_parent\"><img src=\"https://colab.research.google.com/assets/colab-badge.svg\" alt=\"Open In Colab\"/></a>"
      ]
    },
    {
      "cell_type": "code",
      "execution_count": null,
      "metadata": {
        "id": "jg-Hai3tP1hE"
      },
      "outputs": [],
      "source": []
    },
    {
      "cell_type": "code",
      "source": [],
      "metadata": {
        "id": "CW1Ie8mGP588"
      },
      "execution_count": null,
      "outputs": []
    },
    {
      "cell_type": "markdown",
      "source": [
        "**Avances** \\\\\n",
        "[texto del vínculo](https://drive.google.com/file/d/1wqqci8TrPqSR7MHv185SeiT4I1kF1a6y/view?usp=drive_link)\n",
        "\n",
        "[texto del vínculo](https://drive.google.com/file/d/1wqqci8TrPqSR7MHv185SeiT4I1kF1a6y/view?usp=drive_link)\n"
      ],
      "metadata": {
        "id": "JdUXGEZVQIlP"
      }
    }
  ]
}