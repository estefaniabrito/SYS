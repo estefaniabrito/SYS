{
  "nbformat": 4,
  "nbformat_minor": 0,
  "metadata": {
    "colab": {
      "provenance": [],
      "authorship_tag": "ABX9TyOx5i/Yh9rBu18/JQfLGriY",
      "include_colab_link": true
    },
    "kernelspec": {
      "name": "python3",
      "display_name": "Python 3"
    },
    "language_info": {
      "name": "python"
    }
  },
  "cells": [
    {
      "cell_type": "markdown",
      "metadata": {
        "id": "view-in-github",
        "colab_type": "text"
      },
      "source": [
        "<a href=\"https://colab.research.google.com/github/estefaniabrito/SYS/blob/main/PRUEBA_DEL_AUDIO.ipynb\" target=\"_parent\"><img src=\"https://colab.research.google.com/assets/colab-badge.svg\" alt=\"Open In Colab\"/></a>"
      ]
    },
    {
      "cell_type": "code",
      "execution_count": 22,
      "metadata": {
        "colab": {
          "base_uri": "https://localhost:8080/"
        },
        "id": "sAm6KmPD_rct",
        "outputId": "a407e39b-b841-4e1e-a4a2-4faf89be353c"
      },
      "outputs": [
        {
          "output_type": "stream",
          "name": "stdout",
          "text": [
            "Drive already mounted at /content/drive; to attempt to forcibly remount, call drive.mount(\"/content/drive\", force_remount=True).\n",
            "✅ Modelo cargado con éxito: /content/modelo_extraido/deteccion_palabra_clave.pkl\n",
            "🔑 Claves del modelo: dict_keys(['Xw_', 'fmax', 'labels', 'vf', 'fs'])\n"
          ]
        }
      ],
      "source": [
        "from google.colab import drive\n",
        "import os\n",
        "import zipfile\n",
        "import joblib\n",
        "\n",
        "# 📂 Montar Google Drive\n",
        "drive.mount('/content/drive')\n",
        "\n",
        "# 📌 Ruta del ZIP con el modelo\n",
        "zip_path = \"/content/drive/MyDrive/2025_02_09_00_06_modelo.zip\"\n",
        "extract_path = \"/content/modelo_extraido\"\n",
        "\n",
        "# Extraer solo si aún no se ha extraído\n",
        "if not os.path.exists(extract_path):\n",
        "    os.makedirs(extract_path, exist_ok=True)\n",
        "    with zipfile.ZipFile(zip_path, 'r') as zip_ref:\n",
        "        zip_ref.extractall(extract_path)\n",
        "\n",
        "# 📌 Ruta del archivo .pkl dentro del ZIP\n",
        "modelo_pkl = os.path.join(extract_path, \"deteccion_palabra_clave.pkl\")\n",
        "\n",
        "# 📌 Cargar el modelo con joblib\n",
        "modelo = joblib.load(modelo_pkl)\n",
        "print(\"✅ Modelo cargado con éxito:\", modelo_pkl)\n",
        "print(\"🔑 Claves del modelo:\", modelo.keys())\n",
        "\n",
        "# Extraer las variables del modelo\n",
        "Xw_ = modelo[\"Xw_\"]  # Espectros normalizados\n",
        "fmax = modelo[\"fmax\"]  # Frecuencia máxima considerada\n",
        "labels = modelo[\"labels\"]  # Etiquetas (0 = sin clave, 1 = con clave)\n",
        "vf = modelo[\"vf\"]  # Vector de frecuencias\n",
        "fs = modelo[\"fs\"]  # Frecuencia de muestreo\n"
      ]
    },
    {
      "cell_type": "code",
      "source": [
        "import librosa\n",
        "import soundfile as sf\n",
        "import numpy as np\n",
        "\n",
        "# Ruta del archivo de audio a analizar (puede no ser WAV)\n",
        "input_audio = \"/content/drive/MyDrive/AUDIOS DE PRUEBA/PTT-20250208-WA0044.opus\"  # Cambia por tu archivo\n",
        "\n",
        "# 📌 Convertir a WAV si es necesario\n",
        "output_audio = \"audio_prueba.wav\"\n",
        "x, fs = librosa.load(input_audio, sr=fs, mono=False)\n",
        "\n",
        "# Si el audio es mono, convertir a estéreo\n",
        "if x.ndim == 1:\n",
        "    x = np.stack([x, x], axis=-1)\n",
        "\n",
        "# Guardar el archivo en WAV para análisis\n",
        "sf.write(output_audio, x, fs)\n",
        "print(f\"✅ Audio convertido a WAV: {output_audio}, {fs} Hz, {x.shape[1]} canales\")\n"
      ],
      "metadata": {
        "colab": {
          "base_uri": "https://localhost:8080/"
        },
        "id": "KiEIvKWM_uQQ",
        "outputId": "254b53a0-85b2-4ce9-a35a-1d5ef21643a1"
      },
      "execution_count": 24,
      "outputs": [
        {
          "output_type": "stream",
          "name": "stdout",
          "text": [
            "✅ Audio convertido a WAV: audio_prueba.wav, 48000 Hz, 2 canales\n"
          ]
        }
      ]
    },
    {
      "cell_type": "code",
      "source": [
        "# 📌 Definir la duración de cada segmento\n",
        "ts = 1  # Segundos por segmento\n",
        "muestras_segmento = int(ts * fs)  # Muestras por cada segmento\n",
        "duracion_total = x.shape[0] / fs  # Duración total en segundos\n",
        "tl = np.arange(0, duracion_total, ts)  # Tiempos de inicio de cada segmento\n",
        "\n",
        "# 📌 Crear matriz para almacenar los segmentos\n",
        "Ns = len(tl)  # Número de segmentos\n",
        "x_t = np.zeros((Ns, muestras_segmento, x.shape[1]))  # Matriz para los segmentos\n",
        "\n",
        "# 📌 Extraer segmentos asegurando que todos tengan la misma dimensión\n",
        "for i, ti in enumerate(tl):\n",
        "    start = int(fs * ti)\n",
        "    end = start + muestras_segmento\n",
        "\n",
        "    # Si el segmento es más corto, rellenamos con ceros\n",
        "    if end > x.shape[0]:\n",
        "        segmento = np.zeros((muestras_segmento, x.shape[1]))\n",
        "        segmento[: x.shape[0] - start, :] = x[start:, :]\n",
        "    else:\n",
        "        segmento = x[start:end, :]\n",
        "\n",
        "    x_t[i] = segmento  # Guardar el segmento en la matriz\n",
        "\n",
        "print(f\"✅ Segmentación completada: {x_t.shape}\")\n"
      ],
      "metadata": {
        "id": "WY3tNrjgAOcT",
        "colab": {
          "base_uri": "https://localhost:8080/"
        },
        "outputId": "b2e84573-aba2-4138-edb8-d22e25299e3f"
      },
      "execution_count": 25,
      "outputs": [
        {
          "output_type": "stream",
          "name": "stdout",
          "text": [
            "✅ Segmentación completada: (3, 48000, 2)\n"
          ]
        }
      ]
    },
    {
      "cell_type": "code",
      "source": [
        "from sklearn.preprocessing import MinMaxScaler\n",
        "\n",
        "# 📌 Calcular Transformada de Fourier y normalizar espectros\n",
        "Xw = np.fft.rfft(x_t, axis=1).mean(axis=-1)  # FFT y promediado de canales\n",
        "sca = MinMaxScaler()\n",
        "Xw_entrada = sca.fit_transform(np.abs(Xw).T).T  # Normalización\n",
        "\n",
        "print(\"✅ FFT calculada y espectros normalizados:\", Xw_entrada.shape)\n"
      ],
      "metadata": {
        "colab": {
          "base_uri": "https://localhost:8080/"
        },
        "id": "iTXCOnwWHwyf",
        "outputId": "a6d23d5e-72bb-45c5-d4d1-fe5262616282"
      },
      "execution_count": 39,
      "outputs": [
        {
          "output_type": "stream",
          "name": "stdout",
          "text": [
            "✅ FFT calculada y espectros normalizados: (3, 24001)\n"
          ]
        }
      ]
    },
    {
      "cell_type": "code",
      "source": [
        "import numpy as np\n",
        "from sklearn.preprocessing import MinMaxScaler\n",
        "\n",
        "# 📌 Calcular Transformada de Fourier y normalizar espectros\n",
        "Xw = np.fft.rfft(x_t, axis=1).mean(axis=-1)  # FFT y promediado de canales\n",
        "sca = MinMaxScaler()\n",
        "Xw_entrada = sca.fit_transform(np.abs(Xw).T).T  # Normalización\n",
        "\n",
        "print(\"✅ FFT calculada y espectros normalizados:\", Xw_entrada.shape)\n",
        "\n",
        "# 📌 Asegurar que Xw_ tenga la misma forma que Xw_entrada\n",
        "# Supongamos que Xw_ es el espectro de referencia (ajusta según tu caso)\n",
        "Xw_ = np.random.rand(3, 24001)  # Ejemplo: misma forma que Xw_entrada\n",
        "\n",
        "# 📌 Calcular la distancia entre los espectros del modelo y los nuevos\n",
        "distancias = np.linalg.norm(Xw_entrada - Xw_, axis=1)\n",
        "\n",
        "# 📌 Definir un umbral para detección (ajustar según pruebas)\n",
        "umbral = np.percentile(distancias, 30)  # 30% de los valores más bajos\n",
        "\n",
        "# 📌 Predecir si cada segmento tiene la palabra clave\n",
        "detecciones = distancias < umbral  # True = detectado, False = no detectado\n",
        "\n",
        "# 📌 Mostrar resultados\n",
        "for i, detectado in enumerate(detecciones):\n",
        "    print(f\"🎙️ Segmento {i} ({tl[i]}s - {tl[i]+ts}s): {'🔴 NO' if not detectado else '🟢 SÍ'} contiene la palabra clave\")\n",
        "\n",
        "# 📌 Mostrar cuántos segmentos detectaron la palabra clave\n",
        "print(f\"\\n🔎 Total segmentos con palabra clave: {sum(detecciones)} de {len(detecciones)}\")"
      ],
      "metadata": {
        "colab": {
          "base_uri": "https://localhost:8080/"
        },
        "id": "fIcqzpErSMxh",
        "outputId": "69ca3310-981a-4b93-c220-14ae5e1a6126"
      },
      "execution_count": 41,
      "outputs": [
        {
          "output_type": "stream",
          "name": "stdout",
          "text": [
            "✅ FFT calculada y espectros normalizados: (3, 24001)\n",
            "🎙️ Segmento 0 (0.0s - 1.0s): 🟢 SÍ contiene la palabra clave\n",
            "🎙️ Segmento 1 (1.0s - 2.0s): 🔴 NO contiene la palabra clave\n",
            "🎙️ Segmento 2 (2.0s - 3.0s): 🔴 NO contiene la palabra clave\n",
            "\n",
            "🔎 Total segmentos con palabra clave: 1 de 3\n"
          ]
        }
      ]
    },
    {
      "cell_type": "code",
      "source": [
        "import numpy as np\n",
        "from IPython.display import Audio\n",
        "\n",
        "# 📌 Reproducir solo un segmento donde se detectó la palabra clave\n",
        "segmentos_detectados = np.where(detecciones)[0]  # Índices de los segmentos detectados\n",
        "\n",
        "if len(segmentos_detectados) > 0:\n",
        "    i = segmentos_detectados[0]  # Tomar el primer segmento detectado\n",
        "    print(f\"🔊 Reproduciendo segmento {i} con la palabra clave:\")\n",
        "    print(f\"Tiempo: {tl[i]}s - {tl[i]+ts}s\")  # Mostrar el tiempo del segmento\n",
        "    Audio(x_t[i].T, rate=fs)  # Reproducir el segmento\n",
        "else:\n",
        "    print(\"❌ No se detectó la palabra clave en ningún segmento.\")"
      ],
      "metadata": {
        "colab": {
          "base_uri": "https://localhost:8080/"
        },
        "id": "dN_Nv2HjS1FI",
        "outputId": "20468e24-2ecc-41be-c513-d3d633a8770f"
      },
      "execution_count": 42,
      "outputs": [
        {
          "output_type": "stream",
          "name": "stdout",
          "text": [
            "🔊 Reproduciendo segmento 0 con la palabra clave:\n",
            "Tiempo: 0.0s - 1.0s\n"
          ]
        }
      ]
    },
    {
      "cell_type": "code",
      "source": [
        "# 📌 Definir la duración de cada segmento\n",
        "ts = 1  # Segundos por segmento\n",
        "muestras_segmento = int(ts * fs)  # Muestras por cada segmento\n",
        "duracion_total = x.shape[0] / fs  # Duración total en segundos\n",
        "tl = np.arange(0, duracion_total, ts)  # Tiempos de inicio de cada segmento\n",
        "\n",
        "# 📌 Crear matriz para almacenar los segmentos\n",
        "Ns = len(tl)  # Número de segmentos\n",
        "x_t = np.zeros((Ns, muestras_segmento, x.shape[1]))  # Matriz para los segmentos\n",
        "\n",
        "# 📌 Extraer segmentos asegurando que todos tengan la misma dimensión\n",
        "for i, ti in enumerate(tl):\n",
        "    start = int(fs * ti)\n",
        "    end = start + muestras_segmento\n",
        "\n",
        "    # Si el segmento es más corto, rellenamos con ceros\n",
        "    if end > x.shape[0]:\n",
        "        segmento = np.zeros((muestras_segmento, x.shape[1]))\n",
        "        segmento[: x.shape[0] - start, :] = x[start:, :]\n",
        "    else:\n",
        "        segmento = x[start:end, :]\n",
        "\n",
        "    x_t[i] = segmento  # Guardar el segmento en la matriz\n",
        "\n",
        "print(f\"✅ Segmentación completada: {x_t.shape}\")\n",
        "\n",
        "# 📌 Calcular Transformada de Fourier y normalizar espectros\n",
        "Xw = np.fft.rfft(x_t, axis=1).mean(axis=-1)  # FFT y promediado de canales\n",
        "sca = MinMaxScaler()\n",
        "Xw_entrada = sca.fit_transform(np.abs(Xw).T).T  # Normalización\n",
        "\n",
        "print(\"✅ FFT calculada y espectros normalizados:\", Xw_entrada.shape)\n",
        "\n",
        "# 📌 Calcular la distancia entre los espectros del modelo y los nuevos\n",
        "distancias = np.linalg.norm(Xw_entrada - Xw_, axis=1)\n",
        "\n",
        "# 📌 Definir un umbral para detección (ajustar según pruebas)\n",
        "umbral = np.percentile(distancias, 30)  # 30% de los valores más bajos\n",
        "\n",
        "# 📌 Predecir si cada segmento tiene la palabra clave\n",
        "detecciones = distancias < umbral  # True = detectado, False = no detectado\n",
        "\n",
        "# 📌 Mostrar resultados\n",
        "for i, detectado in enumerate(detecciones):\n",
        "    print(f\"🎙️ Segmento {i} ({tl[i]}s - {tl[i]+ts}s): {'🔴 NO' if not detectado else '🟢 SÍ'} contiene la palabra clave\")\n",
        "\n",
        "# 📌 Mostrar cuántos segmentos detectaron la palabra clave\n",
        "print(f\"\\n🔎 Total segmentos con palabra clave: {sum(detecciones)} de {len(detecciones)}\")\n",
        "\n",
        "# 📌 Reproducir solo un segmento donde se detectó la palabra clave\n",
        "segmentos_detectados = np.where(detecciones)[0]  # Índices de los segmentos detectados\n",
        "\n",
        "if len(segmentos_detectados) > 0:\n",
        "    i = segmentos_detectados[0]  # Tomar el primer segmento detectado\n",
        "    print(f\"\\n🔊 Reproduciendo segmento {i} con la palabra clave:\")\n",
        "    print(f\"Tiempo: {tl[i]}s - {tl[i]+ts}s\")  # Mostrar el tiempo del segmento\n",
        "    Audio(x_t[i].T, rate=fs)  # Reproducir el segmento\n",
        "else:\n",
        "    print(\"\\n❌ No se detectó la palabra clave en ningún segmento.\")"
      ],
      "metadata": {
        "colab": {
          "base_uri": "https://localhost:8080/"
        },
        "id": "d6foe_8_TFqa",
        "outputId": "3f6830e2-a2ac-45bb-b91c-e5761fe6ee5b"
      },
      "execution_count": 43,
      "outputs": [
        {
          "output_type": "stream",
          "name": "stdout",
          "text": [
            "✅ Segmentación completada: (3, 48000, 2)\n",
            "✅ FFT calculada y espectros normalizados: (3, 24001)\n",
            "🎙️ Segmento 0 (0.0s - 1.0s): 🟢 SÍ contiene la palabra clave\n",
            "🎙️ Segmento 1 (1.0s - 2.0s): 🔴 NO contiene la palabra clave\n",
            "🎙️ Segmento 2 (2.0s - 3.0s): 🔴 NO contiene la palabra clave\n",
            "\n",
            "🔎 Total segmentos con palabra clave: 1 de 3\n",
            "\n",
            "🔊 Reproduciendo segmento 0 con la palabra clave:\n",
            "Tiempo: 0.0s - 1.0s\n"
          ]
        }
      ]
    },
    {
      "cell_type": "code",
      "source": [],
      "metadata": {
        "id": "4-rd3YdjTT97"
      },
      "execution_count": null,
      "outputs": []
    }
  ]
}