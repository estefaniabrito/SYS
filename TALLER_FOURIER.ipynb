{
  "nbformat": 4,
  "nbformat_minor": 0,
  "metadata": {
    "colab": {
      "provenance": [],
      "authorship_tag": "ABX9TyOrq1N/QJuc2CCjJPrHDGxZ",
      "include_colab_link": true
    },
    "kernelspec": {
      "name": "python3",
      "display_name": "Python 3"
    },
    "language_info": {
      "name": "python"
    }
  },
  "cells": [
    {
      "cell_type": "markdown",
      "metadata": {
        "id": "view-in-github",
        "colab_type": "text"
      },
      "source": [
        "<a href=\"https://colab.research.google.com/github/estefaniabrito/SYS/blob/main/TALLER_FOURIER.ipynb\" target=\"_parent\"><img src=\"https://colab.research.google.com/assets/colab-badge.svg\" alt=\"Open In Colab\"/></a>"
      ]
    },
    {
      "cell_type": "markdown",
      "source": [
        "\n",
        "Taller de Fourier \\\\\n",
        "Estefania Ramirez Brito \\\\\n",
        "Ejercicio 1 \\\\\n",
        "Para el conjunto {$e^{j\\omega_0t}$} con n que pertenece a los enteros sea ortogonal en el intervalo [-T/2,T/2] con T que pertenece a los reales\n",
        " con $\\omega_0$ armonico n-ésimo. \\\\\n",
        "Para todo t que pertenece al intervalo [-T/2,T/2]: \\\\\n",
        "$\\int_{-T/2}^{T/2}e^{jn\\omega _ot}(e^{jm\\omega _ot})*dt=\\begin{Bmatrix}\n",
        "0\\to n \\neq m \\\\ \\varepsilon _n \\to n=m\n",
        "\\end{Bmatrix}$ \\\\\n",
        "**Pór teoria tengamos en cuenta que $\\omega_o=\\frac{2\\pi}{T}$\\\\\n",
        "Si lo anterior se cumple el producto punto será 0 \\\\\n",
        "**Si n = m**: \\\\\n",
        " $\\int_{-T/2}^{T/2}e^{jn\\omega _ot}(e^{-jm\\omega _ot})dt=\\int_{-T/2}^{T/2}e^{jn\\omega_0t-jm\\omega_0t}dt$\n",
        " $\\varepsilon_n=\\int_{-T/2}^{T/2}e^{0}dt=\\int_{-T/2}^{T/2}dt=t_{-T/2}^{T/2}=\\frac{T}{2}--\\frac{T}{2}=T$ \\\\\n",
        "**Si n $\\neq$ m**: \\\\\n",
        "$\\int_{-T/2}^{T/2}e^{jn\\omega _ot}(e^{-jm\\omega _ot})dt=\\int_{-T/2}^{T/2}e^{j(n-m)\\omega_ot}dt$ \\\\\n",
        "Hacemos $u=j(n-m)\\omega t$ \\\\\n",
        "du=$j(n-m)\\omega dt$ \\\\\n",
        "$\\frac{1}{j(n-m)\\omega_0}*e^{j(n-m)\\omega_0t_{-T/2}^{T/2}}$ \\\\\n",
        "$=\\frac{1}{j(n-m)\\omega_0}\\left [ e^{j(n-m)\\frac{2\\pi}{T}*\\frac{T}{2}} -e^{j(n-m)\\frac{2\\pi}{T}*\\frac{-T}{2}}\\right ]$ \\\\\n",
        "Si n, m $\\in$ $\\mathbb{Z}$; n-m $\\in$ $\\mathbb{Z}$; n-m r; r $\\in$ $\\mathbb{Z}$\n",
        "$\\frac{1}{jr\\omega_0}\\left [ cos(r\\pi)+jsen(r\\pi)-cos(r\\pi)-sen(r\\pi) \\right ] = 0$ \\\\\n",
        "\n",
        "De esta manera queda demostrado que para que $\\omega_0$ sea ortogonal en el intervalo propuesto $\\omega_0=\\frac{2\\pi}{T}$\n",
        "\n",
        "\n",
        "---\n",
        "\n",
        "\n",
        "\n",
        "**Ejercicio 2**\n",
        "\n",
        "\n",
        "\n",
        "\n",
        "\n",
        "\n",
        "\n",
        "\n",
        "\n",
        "\n",
        "\n",
        "\n",
        "\n",
        "\n",
        "\n",
        "\n",
        "\n"
      ],
      "metadata": {
        "id": "Zam3HBG1-TSB"
      }
    },
    {
      "cell_type": "code",
      "execution_count": null,
      "metadata": {
        "id": "W7SmhO4d-OC9"
      },
      "outputs": [],
      "source": []
    },
    {
      "cell_type": "markdown",
      "source": [],
      "metadata": {
        "id": "S99YUQAu-S1B"
      }
    }
  ]
}