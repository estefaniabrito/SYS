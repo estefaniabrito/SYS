{
  "nbformat": 4,
  "nbformat_minor": 0,
  "metadata": {
    "colab": {
      "provenance": [],
      "authorship_tag": "ABX9TyP6ol3PlAo0c2HUFvxNMt00",
      "include_colab_link": true
    },
    "kernelspec": {
      "name": "python3",
      "display_name": "Python 3"
    },
    "language_info": {
      "name": "python"
    }
  },
  "cells": [
    {
      "cell_type": "markdown",
      "metadata": {
        "id": "view-in-github",
        "colab_type": "text"
      },
      "source": [
        "<a href=\"https://colab.research.google.com/github/estefaniabrito/SYS/blob/main/Ejercicios_Laplace.ipynb\" target=\"_parent\"><img src=\"https://colab.research.google.com/assets/colab-badge.svg\" alt=\"Open In Colab\"/></a>"
      ]
    },
    {
      "cell_type": "markdown",
      "source": [
        "##Universidad Nacional de Colombia\n",
        "**Ejercicios La Place**\n",
        "\n",
        "Señales y sistemas\n",
        "\n",
        "Estefanía Ramirez Brito\n",
        "\n",
        "Andres Marino Alvarez Meza\n",
        "\n",
        "2024-2\n"
      ],
      "metadata": {
        "id": "NX4U5mdKWZ1J"
      }
    },
    {
      "cell_type": "markdown",
      "source": [
        "##Ejercicio 1\n",
        "![Ilustración de los polos y ceros en un gráfico de polos y ceros](https://github.com/amalvarezme/SenalesSistemas/blob/master/4_Transformada_Laplace/pz_plot.png?raw=1)\n",
        "\n",
        "* Obtenga $X(s)$ junto con su ROC de la anterior gráfica de polos y ceros.\n"
      ],
      "metadata": {
        "id": "c6pgTcekW9nt"
      }
    },
    {
      "cell_type": "code",
      "execution_count": 1,
      "metadata": {
        "colab": {
          "base_uri": "https://localhost:8080/"
        },
        "id": "hgPsMavwWVTP",
        "outputId": "1fc6d9fe-279f-4624-fbd6-e2a54be5d678"
      },
      "outputs": [
        {
          "output_type": "stream",
          "name": "stdout",
          "text": [
            "X(s)= 2*(s + 2)/(s**2 + 1)\n",
            "Zeros= [-2.]\n",
            "Poles= [-0.+1.j  0.-1.j]\n",
            "Gain= 2.0\n",
            "La regiòn de convergencia ROC es: Re(s)>0 ·suponiendo un  sistema causal\n"
          ]
        }
      ],
      "source": [
        "import sympy as sp\n",
        "import numpy as np\n",
        "import matplotlib.pyplot as plt\n",
        "from scipy.signal import tf2zpk\n",
        "\n",
        "\n",
        "s = sp.symbols('s', complex=True)\n",
        "K=2\n",
        "X_s=K*(s+2)/(s**2+1)\n",
        "print (\"X(s)=\",sp.simplify(X_s))\n",
        "num=[2,4]\n",
        "den=[1,0,1]\n",
        "zeros,poles,gain=tf2zpk(num,den)\n",
        "print (\"Zeros=\",zeros)\n",
        "print (\"Poles=\",poles)\n",
        "print (\"Gain=\",gain)\n",
        "real= np.linspace(-3,3,400)\n",
        "imag= np.linspace(-3,3,400)\n",
        "X,Y=np.meshgrid(real,imag)\n",
        "Z=X+Y*1j\n",
        "H=2*(Z+2)/(Z**2+1)\n",
        "roc=\"Re(s)>0 ·suponiendo un  sistema causal\"\n",
        "print (\"La regiòn de convergencia ROC es:\",roc)"
      ]
    },
    {
      "cell_type": "markdown",
      "source": [
        "**Ejercicio 2**\n",
        "\n",
        "* Determinar los polos y ceros de la transformada de Laplace $\\mathsf{L} \\{ \\epsilon(t) \\cdot \\sin(\\omega_0 t) \\}$ mediante el cálculo manual y extendiendo el ejemplo anterior. Qué simetría muestran los polos y los ceros en el plano $s$?"
      ],
      "metadata": {
        "id": "irz_x0vKYMez"
      }
    },
    {
      "cell_type": "markdown",
      "source": [
        "**link de la imagen que contiene el cálculo manual**\n",
        "https://drive.google.com/file/d/1aSgpk0TIzpMJjrGaMN-TIiAtJqtaqbMJ/view?usp=drive_link\n",
        "\n",
        "Los polos muestran simetría con respecto al eje real ya que los polos aparecen en pares conjugados complejos. No se tiene una simetría en los ceros ya que por cuestiones del numerador no los hay\n"
      ],
      "metadata": {
        "id": "VaBBASFVbKSc"
      }
    },
    {
      "cell_type": "code",
      "source": [
        "import numpy as np\n",
        "import matplotlib.pyplot as plt\n",
        "\n",
        "# Definir la frecuencia omega_0\n",
        "omega_0 = 1  # Puedes cambiar este valor según sea necesario\n",
        "\n",
        "# Definir los polos\n",
        "poles = [1j * omega_0, -1j * omega_0]  # Polos en ±jω0\n",
        "\n",
        "# Crear la gráfica del plano complejo\n",
        "fig, ax = plt.subplots(figsize=(6, 6))\n",
        "ax.axhline(0, color='black', linewidth=1)  # Eje real\n",
        "ax.axvline(0, color='black', linewidth=1)  # Eje imaginario\n",
        "\n",
        "# Graficar los polos\n",
        "ax.scatter([p.real for p in poles], [p.imag for p in poles], color='red', marker='x', s=100, label='Polos')\n",
        "\n",
        "# Etiquetas\n",
        "ticks = np.arange(-2, 3, 1)\n",
        "ax.set_xticks(ticks)\n",
        "ax.set_yticks(ticks)\n",
        "ax.set_xlabel('Re{s} (Parte Real, ejex)')\n",
        "ax.set_ylabel('Im{s} (Parte Imaginaria, eje y)')\n",
        "ax.set_title('Polos en el Plano S')\n",
        "ax.legend()\n",
        "ax.grid(True, linestyle='--', linewidth=0.5)\n",
        "\n",
        "# Límites del gráfico\n",
        "ax.set_xlim(-2, 2)\n",
        "ax.set_ylim(-2, 2)\n",
        "\n",
        "# Mostrar la gráfica\n",
        "plt.show()\n"
      ],
      "metadata": {
        "colab": {
          "base_uri": "https://localhost:8080/",
          "height": 564
        },
        "id": "8uw_nDmrX390",
        "outputId": "37597347-17c6-4c51-90a4-4d1408a1a12b"
      },
      "execution_count": 3,
      "outputs": [
        {
          "output_type": "display_data",
          "data": {
            "text/plain": [
              "<Figure size 600x600 with 1 Axes>"
            ],
            "image/png": "[encoded data removed]"
          },
          "metadata": {}
        }
      ]
    },
    {
      "cell_type": "markdown",
      "source": [
        "##**Ejercicio 3**\n",
        "\n",
        "* Obtener la transformada inversa de Laplace de $X(s)$ manualmente.\n",
        "* Obtener la transformada inversa de Laplace de\n",
        "    \\begin{equation}\n",
        "    X(s) = \\frac{1}{(s+1)(s+2)^2} \\qquad \\text{for } \\Re \\{ s \\} \\geq -1\n",
        "    \\end{equation}\n",
        "    manualmente. Comprobar los resultados utilizando `SymPy`."
      ],
      "metadata": {
        "id": "nebMBeLrdUBp"
      }
    },
    {
      "cell_type": "markdown",
      "source": [
        "**Cálculos manuales primer punto**\n",
        "https://drive.google.com/file/d/1HJsmm1n3K_jU5Zsvmk2cHvC0WM_DACni/view?usp=drive_link\n",
        "\n",
        "---\n",
        "**Cálculos manuales segundo punto**\n",
        "https://drive.google.com/file/d/1f0qbRvhrGppS7sbdaKUGKM3MSmZTIEU_/view?usp=drive_link\n"
      ],
      "metadata": {
        "id": "V7RlTwQrqu0u"
      }
    },
    {
      "cell_type": "code",
      "source": [
        "#Comprobación con Sympy\n",
        "%matplotlib inline\n",
        "import sympy as sym\n",
        "sym.init_printing()\n",
        "\n",
        "s = sym.symbols('s', complex=True)\n",
        "t = sym.symbols('t', real=True)\n",
        "\n",
        "X = (1)/((s+1)*(s+2)**2)\n",
        "X\n"
      ],
      "metadata": {
        "colab": {
          "base_uri": "https://localhost:8080/",
          "height": 58
        },
        "id": "i_R5K3iZqT0O",
        "outputId": "6bcf1c61-288e-4312-f8b4-78cf26004a20"
      },
      "execution_count": 6,
      "outputs": [
        {
          "output_type": "execute_result",
          "data": {
            "text/plain": [
              "       1        \n",
              "────────────────\n",
              "               2\n",
              "(s + 1)⋅(s + 2) "
            ],
            "text/latex": "$\\displaystyle \\frac{1}{\\left(s + 1\\right) \\left(s + 2\\right)^{2}}$"
          },
          "metadata": {},
          "execution_count": 6
        }
      ]
    },
    {
      "cell_type": "code",
      "source": [
        "sym.inverse_laplace_transform(X, s, t).simplify()"
      ],
      "metadata": {
        "colab": {
          "base_uri": "https://localhost:8080/",
          "height": 38
        },
        "id": "dQXCUi_ZxAOS",
        "outputId": "b5b950ea-8ef2-4ca0-d4d1-355656dbe315"
      },
      "execution_count": 7,
      "outputs": [
        {
          "output_type": "execute_result",
          "data": {
            "text/plain": [
              "⎛      t    ⎞  -2⋅t     \n",
              "⎝-t + ℯ  - 1⎠⋅ℯ    ⋅θ(t)"
            ],
            "text/latex": "$\\displaystyle \\left(- t + e^{t} - 1\\right) e^{- 2 t} \\theta\\left(t\\right)$"
          },
          "metadata": {},
          "execution_count": 7
        }
      ]
    },
    {
      "cell_type": "markdown",
      "source": [
        "Pintamos para observar como se comporta de manera gráfica el ejercicio propuesto."
      ],
      "metadata": {
        "id": "XnkuhBFRxW1L"
      }
    },
    {
      "cell_type": "code",
      "source": [
        "poles = sym.roots(sym.denom(X))\n",
        "poles"
      ],
      "metadata": {
        "colab": {
          "base_uri": "https://localhost:8080/",
          "height": 37
        },
        "id": "rN4Cs5O1xLj-",
        "outputId": "66eb7759-dbfd-402d-a615-f85bdf08cf31"
      },
      "execution_count": 10,
      "outputs": [
        {
          "output_type": "execute_result",
          "data": {
            "text/plain": [
              "{-2: 2, -1: 1}"
            ],
            "text/latex": "$\\displaystyle \\left\\{ -2 : 2, \\  -1 : 1\\right\\}$"
          },
          "metadata": {},
          "execution_count": 10
        }
      ]
    },
    {
      "cell_type": "code",
      "source": [
        "A, B, C = sym.symbols('A B C', real=True)\n",
        "#expresión en fracciones parciales\n",
        "Xp = A / (s+1) + (B)/(s+2) + (C)/(s+2)**2\n",
        "#resolver coeficientes por igualación de expresiones\n",
        "coeffs = sym.solve(sym.Eq(X, Xp), (A, B, C))\n",
        "coeffs"
      ],
      "metadata": {
        "colab": {
          "base_uri": "https://localhost:8080/",
          "height": 38
        },
        "id": "utj5Nt3gxd2F",
        "outputId": "02b13de8-e5ec-4652-adda-de058d609f71"
      },
      "execution_count": 11,
      "outputs": [
        {
          "output_type": "execute_result",
          "data": {
            "text/plain": [
              "{A: 1, B: -1, C: -1}"
            ],
            "text/latex": "$\\displaystyle \\left\\{ A : 1, \\  B : -1, \\  C : -1\\right\\}$"
          },
          "metadata": {},
          "execution_count": 11
        }
      ]
    },
    {
      "cell_type": "code",
      "source": [
        "Xp = Xp.subs(coeffs)\n",
        "Xp"
      ],
      "metadata": {
        "colab": {
          "base_uri": "https://localhost:8080/",
          "height": 58
        },
        "id": "lc0WcTU2yDA_",
        "outputId": "bc694b29-1c48-4186-92ed-fb3306a29890"
      },
      "execution_count": 12,
      "outputs": [
        {
          "output_type": "execute_result",
          "data": {
            "text/plain": [
              "    1        1         1  \n",
              "- ───── - ──────── + ─────\n",
              "  s + 2          2   s + 1\n",
              "          (s + 2)         "
            ],
            "text/latex": "$\\displaystyle - \\frac{1}{s + 2} - \\frac{1}{\\left(s + 2\\right)^{2}} + \\frac{1}{s + 1}$"
          },
          "metadata": {},
          "execution_count": 12
        }
      ]
    },
    {
      "cell_type": "code",
      "source": [
        "x1 = sym.inverse_laplace_transform(Xp.args[0], s, t) #trasformada inversa del segundo componente\n",
        "x1"
      ],
      "metadata": {
        "colab": {
          "base_uri": "https://localhost:8080/",
          "height": 38
        },
        "id": "rjF2m5xvyGbR",
        "outputId": "df9bbcbb-f679-421d-a1b7-15ef6eabe317"
      },
      "execution_count": 15,
      "outputs": [
        {
          "output_type": "execute_result",
          "data": {
            "text/plain": [
              " -t     \n",
              "ℯ  ⋅θ(t)"
            ],
            "text/latex": "$\\displaystyle e^{- t} \\theta\\left(t\\right)$"
          },
          "metadata": {},
          "execution_count": 15
        }
      ]
    },
    {
      "cell_type": "code",
      "source": [
        "x2 = sym.inverse_laplace_transform(Xp.args[1], s, t)#transformada inversa del segundo componente\n",
        "x2"
      ],
      "metadata": {
        "colab": {
          "base_uri": "https://localhost:8080/",
          "height": 38
        },
        "id": "K7iRcliEyKaH",
        "outputId": "50d967c8-3424-4dbc-dfad-24e7c65689cc"
      },
      "execution_count": 16,
      "outputs": [
        {
          "output_type": "execute_result",
          "data": {
            "text/plain": [
              "  -2⋅t     \n",
              "-ℯ    ⋅θ(t)"
            ],
            "text/latex": "$\\displaystyle - e^{- 2 t} \\theta\\left(t\\right)$"
          },
          "metadata": {},
          "execution_count": 16
        }
      ]
    },
    {
      "cell_type": "code",
      "source": [
        "x2 = sym.inverse_laplace_transform(Xp.args[2], s, t)#transformada inversa del tercer componente\n",
        "x2"
      ],
      "metadata": {
        "colab": {
          "base_uri": "https://localhost:8080/",
          "height": 38
        },
        "id": "Zd1XcXSmyPaf",
        "outputId": "b4e316fb-0ed5-4902-fa61-56cce70b4db2"
      },
      "execution_count": 17,
      "outputs": [
        {
          "output_type": "execute_result",
          "data": {
            "text/plain": [
              "    -2⋅t     \n",
              "-t⋅ℯ    ⋅θ(t)"
            ],
            "text/latex": "$\\displaystyle - t e^{- 2 t} \\theta\\left(t\\right)$"
          },
          "metadata": {},
          "execution_count": 17
        }
      ]
    },
    {
      "cell_type": "code",
      "source": [
        "x = x1 + x2\n",
        "x"
      ],
      "metadata": {
        "colab": {
          "base_uri": "https://localhost:8080/",
          "height": 38
        },
        "id": "n4AarkNTyXXE",
        "outputId": "33c124d2-2cad-477e-d490-50c0d069f11d"
      },
      "execution_count": 18,
      "outputs": [
        {
          "output_type": "execute_result",
          "data": {
            "text/plain": [
              "     -2⋅t         -t     \n",
              "- t⋅ℯ    ⋅θ(t) + ℯ  ⋅θ(t)"
            ],
            "text/latex": "$\\displaystyle - t e^{- 2 t} \\theta\\left(t\\right) + e^{- t} \\theta\\left(t\\right)$"
          },
          "metadata": {},
          "execution_count": 18
        }
      ]
    },
    {
      "cell_type": "code",
      "source": [
        "sym.plot(x, (t, -0.1, 4), xlabel='$t$', ylabel='$x(t)$');"
      ],
      "metadata": {
        "colab": {
          "base_uri": "https://localhost:8080/",
          "height": 484
        },
        "id": "XNTKNUDqye60",
        "outputId": "101bf1ca-e785-4d72-e37f-102e1cc0402e"
      },
      "execution_count": 19,
      "outputs": [
        {
          "output_type": "display_data",
          "data": {
            "text/plain": [
              "<Figure size 640x480 with 1 Axes>"
            ],
            "image/png": "[encoded data removed]"
          },
          "metadata": {}
        }
      ]
    },
    {
      "cell_type": "markdown",
      "source": [
        "##**Ejercicio 4**\n",
        "\n",
        "* Qué relación tiene $\\lambda$ con el la salida obtenida al resolver la EDO?\n",
        "\n",
        "Si la entrada es \\$x(t)$=\\$e^st\\$, se busca una solución de la forma:\n",
        "\n",
        "$y(t)$=  $λe^st$\n",
        "\n",
        "\\$a_0λe^st+a_1sλe^st+a_2s^2λe^st=e^st$\n",
        "\n",
        "asumiendo que $e^st \\neq 0$:\n",
        "$λ(a_0+a_1s+a_2s^2)=1$\n",
        "\n",
        "De donde λ= $ \\frac {1}{(a_0+a_1s+a_2s^2)}$\n",
        "\n",
        "Teniendo en cuenta la teoría previa se dice que:\n",
        "\n",
        "λ=$\\ e^{s\\tau}$\n",
        "\n",
        "$ \\frac {1}{(a_0+a_1s+a_2s^2)}$=$\\ e^{s\\tau}$\n",
        "\n",
        "$s\\tau$=$Ln(\\frac {1}{(a_0+a_1s+a_2s^2)})$\n",
        "\n",
        "Finalmente:\n",
        "\n",
        "$\\tau$=$- \\frac{1}{s}*Ln(a_0+a_1s+a_2s^2)$\n",
        "\n",
        "El parámetro λ representa el factor de atenuación o eslacamiento que relaciona la salida con una entrada exponencial, en el análisis de la ecuación diferencial este factor está determinado por la respuesta en frecuencia del sistema dada por la función de transferencia:\n",
        "\n",
        "$H(s)$= $\\frac {1}{(a_0+a_1s+a_2s^2)}$\n"
      ],
      "metadata": {
        "id": "unNUR2siy90c"
      }
    }
  ]
}